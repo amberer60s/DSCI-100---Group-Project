{
 "cells": [
  {
   "cell_type": "markdown",
   "id": "d225b20c-f9eb-4402-bcd1-5a0408ba41ca",
   "metadata": {},
   "source": [
    "# Project Final Report "
   ]
  },
  {
   "cell_type": "code",
   "execution_count": 1,
   "id": "e879402e-19d7-4284-a342-96a0a42e2735",
   "metadata": {},
   "outputs": [
    {
     "name": "stderr",
     "output_type": "stream",
     "text": [
      "── \u001b[1mAttaching core tidyverse packages\u001b[22m ──────────────────────── tidyverse 2.0.0 ──\n",
      "\u001b[32m✔\u001b[39m \u001b[34mdplyr    \u001b[39m 1.1.4     \u001b[32m✔\u001b[39m \u001b[34mreadr    \u001b[39m 2.1.5\n",
      "\u001b[32m✔\u001b[39m \u001b[34mforcats  \u001b[39m 1.0.0     \u001b[32m✔\u001b[39m \u001b[34mstringr  \u001b[39m 1.5.1\n",
      "\u001b[32m✔\u001b[39m \u001b[34mggplot2  \u001b[39m 3.5.1     \u001b[32m✔\u001b[39m \u001b[34mtibble   \u001b[39m 3.2.1\n",
      "\u001b[32m✔\u001b[39m \u001b[34mlubridate\u001b[39m 1.9.3     \u001b[32m✔\u001b[39m \u001b[34mtidyr    \u001b[39m 1.3.1\n",
      "\u001b[32m✔\u001b[39m \u001b[34mpurrr    \u001b[39m 1.0.2     \n",
      "── \u001b[1mConflicts\u001b[22m ────────────────────────────────────────── tidyverse_conflicts() ──\n",
      "\u001b[31m✖\u001b[39m \u001b[34mdplyr\u001b[39m::\u001b[32mfilter()\u001b[39m masks \u001b[34mstats\u001b[39m::filter()\n",
      "\u001b[31m✖\u001b[39m \u001b[34mdplyr\u001b[39m::\u001b[32mlag()\u001b[39m    masks \u001b[34mstats\u001b[39m::lag()\n",
      "\u001b[36mℹ\u001b[39m Use the conflicted package (\u001b[3m\u001b[34m<http://conflicted.r-lib.org/>\u001b[39m\u001b[23m) to force all conflicts to become errors\n",
      "── \u001b[1mAttaching packages\u001b[22m ────────────────────────────────────── tidymodels 1.1.1 ──\n",
      "\n",
      "\u001b[32m✔\u001b[39m \u001b[34mbroom       \u001b[39m 1.0.6     \u001b[32m✔\u001b[39m \u001b[34mrsample     \u001b[39m 1.2.1\n",
      "\u001b[32m✔\u001b[39m \u001b[34mdials       \u001b[39m 1.3.0     \u001b[32m✔\u001b[39m \u001b[34mtune        \u001b[39m 1.1.2\n",
      "\u001b[32m✔\u001b[39m \u001b[34minfer       \u001b[39m 1.0.7     \u001b[32m✔\u001b[39m \u001b[34mworkflows   \u001b[39m 1.1.4\n",
      "\u001b[32m✔\u001b[39m \u001b[34mmodeldata   \u001b[39m 1.4.0     \u001b[32m✔\u001b[39m \u001b[34mworkflowsets\u001b[39m 1.0.1\n",
      "\u001b[32m✔\u001b[39m \u001b[34mparsnip     \u001b[39m 1.2.1     \u001b[32m✔\u001b[39m \u001b[34myardstick   \u001b[39m 1.3.1\n",
      "\u001b[32m✔\u001b[39m \u001b[34mrecipes     \u001b[39m 1.1.0     \n",
      "\n",
      "── \u001b[1mConflicts\u001b[22m ───────────────────────────────────────── tidymodels_conflicts() ──\n",
      "\u001b[31m✖\u001b[39m \u001b[34mscales\u001b[39m::\u001b[32mdiscard()\u001b[39m masks \u001b[34mpurrr\u001b[39m::discard()\n",
      "\u001b[31m✖\u001b[39m \u001b[34mdplyr\u001b[39m::\u001b[32mfilter()\u001b[39m   masks \u001b[34mstats\u001b[39m::filter()\n",
      "\u001b[31m✖\u001b[39m \u001b[34mrecipes\u001b[39m::\u001b[32mfixed()\u001b[39m  masks \u001b[34mstringr\u001b[39m::fixed()\n",
      "\u001b[31m✖\u001b[39m \u001b[34mdplyr\u001b[39m::\u001b[32mlag()\u001b[39m      masks \u001b[34mstats\u001b[39m::lag()\n",
      "\u001b[31m✖\u001b[39m \u001b[34myardstick\u001b[39m::\u001b[32mspec()\u001b[39m masks \u001b[34mreadr\u001b[39m::spec()\n",
      "\u001b[31m✖\u001b[39m \u001b[34mrecipes\u001b[39m::\u001b[32mstep()\u001b[39m   masks \u001b[34mstats\u001b[39m::step()\n",
      "\u001b[34m•\u001b[39m Search for functions across packages at \u001b[32mhttps://www.tidymodels.org/find/\u001b[39m\n",
      "\n"
     ]
    }
   ],
   "source": [
    "library(tidyverse)\n",
    "library(repr)\n",
    "library(tidymodels)\n",
    "options(repr.matrix.rows = 6)"
   ]
  },
  {
   "cell_type": "code",
   "execution_count": 3,
   "id": "b92382ec-e261-4efb-92ac-1fe7ccae6a25",
   "metadata": {},
   "outputs": [
    {
     "name": "stderr",
     "output_type": "stream",
     "text": [
      "\u001b[1mRows: \u001b[22m\u001b[34m196\u001b[39m \u001b[1mColumns: \u001b[22m\u001b[34m7\u001b[39m\n",
      "\u001b[36m──\u001b[39m \u001b[1mColumn specification\u001b[22m \u001b[36m────────────────────────────────────────────────────────\u001b[39m\n",
      "\u001b[1mDelimiter:\u001b[22m \",\"\n",
      "\u001b[31mchr\u001b[39m (4): experience, hashedEmail, name, gender\n",
      "\u001b[32mdbl\u001b[39m (2): played_hours, Age\n",
      "\u001b[33mlgl\u001b[39m (1): subscribe\n",
      "\n",
      "\u001b[36mℹ\u001b[39m Use `spec()` to retrieve the full column specification for this data.\n",
      "\u001b[36mℹ\u001b[39m Specify the column types or set `show_col_types = FALSE` to quiet this message.\n"
     ]
    },
    {
     "name": "stdout",
     "output_type": "stream",
     "text": [
      "\u001b[90m# A tibble: 196 × 7\u001b[39m\n",
      "   experience subscribe hashedEmail              played_hours name  gender   Age\n",
      "   \u001b[3m\u001b[90m<chr>\u001b[39m\u001b[23m      \u001b[3m\u001b[90m<lgl>\u001b[39m\u001b[23m     \u001b[3m\u001b[90m<chr>\u001b[39m\u001b[23m                           \u001b[3m\u001b[90m<dbl>\u001b[39m\u001b[23m \u001b[3m\u001b[90m<chr>\u001b[39m\u001b[23m \u001b[3m\u001b[90m<chr>\u001b[39m\u001b[23m  \u001b[3m\u001b[90m<dbl>\u001b[39m\u001b[23m\n",
      "\u001b[90m 1\u001b[39m Pro        TRUE      f6daba428a5e19a3d475748…         30.3 Morg… Male       9\n",
      "\u001b[90m 2\u001b[39m Veteran    TRUE      f3c813577c458ba0dfef809…          3.8 Chri… Male      17\n",
      "\u001b[90m 3\u001b[39m Veteran    FALSE     b674dd7ee0d24096d1c0196…          0   Blake Male      17\n",
      "\u001b[90m 4\u001b[39m Amateur    TRUE      23fe711e0e3b77f1da7aa22…          0.7 Flora Female    21\n",
      "\u001b[90m 5\u001b[39m Regular    TRUE      7dc01f10bf20671ecfccdac…          0.1 Kylie Male      21\n",
      "\u001b[90m 6\u001b[39m Amateur    TRUE      f58aad5996a435f16b0284a…          0   Adri… Female    17\n",
      "\u001b[90m 7\u001b[39m Regular    TRUE      8e594b8953193b26f498db9…          0   Luna  Female    19\n",
      "\u001b[90m 8\u001b[39m Amateur    FALSE     1d2371d8a35c8831034b25b…          0   Emer… Male      21\n",
      "\u001b[90m 9\u001b[39m Amateur    TRUE      8b71f4d66a38389b7528bb3…          0.1 Nata… Male      17\n",
      "\u001b[90m10\u001b[39m Veteran    TRUE      bbe2d83de678f519c4b3daa…          0   Nyla  Female    22\n",
      "\u001b[90m# ℹ 186 more rows\u001b[39m\n"
     ]
    }
   ],
   "source": [
    "players_data <-read_csv(\"https://raw.githubusercontent.com/amberer60s/DSCI-100---Group-Project/refs/heads/main/players%20(1).csv?token=GHSAT0AAAAAADBONSJYRLGZMVJEG4UWIOM6Z7QMGZQ\")\n",
    "print(players_data)"
   ]
  },
  {
   "cell_type": "markdown",
   "id": "2a3cbaef-8f80-4675-9fbe-77dd4067a615",
   "metadata": {},
   "source": [
    "## Introduction ##"
   ]
  },
  {
   "cell_type": "markdown",
   "id": "5bcd6617-a549-46cd-bac8-f797f31e27b4",
   "metadata": {},
   "source": [
    "In the world of gaming, game developers and companies want to keep players engaged and attract new ones. One way to do this is by figuring out which players are most likely to play a lot, as this gives them a better idea of where to focus their marketing and recruitment efforts. The more time a player spends, the better the developers can understand how to improve the game and \n",
    "\n",
    "A big question for game developers is whether certain types of players are more likely to play for longer periods. \n",
    "\n",
    "For our project, we tried to answer the question : \n",
    "\n",
    "**\"Can a player’s experience and age predict how much time they will spend playing the game?\"**\n",
    "\n",
    "Our aim is to see if there is a relationship between how old a player is and how much they play. This could help game developers understand which age groups are more likely to be active players."
   ]
  },
  {
   "cell_type": "markdown",
   "id": "b83fccc0-1238-422a-b1ff-4ef6d2263544",
   "metadata": {},
   "source": [
    "#### **players.csv**\n",
    "This dataset contains 196 player records with various variables describing their characteristics and behavior."
   ]
  },
  {
   "cell_type": "markdown",
   "id": "d641537a-551e-4a91-bf18-5da871c4ec80",
   "metadata": {},
   "source": [
    "| Column Name   | Data Type | Description |\n",
    "|--------------|----------|-------------|\n",
    "| `experience` | character (chr) | Player's experience level (`Pro`, `Veteran`, `Regular`, and `Amateur`). |\n",
    "| `subscribe`  | logical (lgl) | Indicates whether the player is a subscriber to the server (`True` or `False`). |\n",
    "| `hashedEmail` | character (chr) | Hashed representation of the player's email. |\n",
    "| `played_hours` | dbl | Total hours the player has played. |\n",
    "| `name` | character (chr) | Player's name. |\n",
    "| `gender` | character (chr) | Player's gender (e.g., Male, Female, Non-binary, etc.). |\n",
    "| `Age` | double (dbl) | Player’s age (years). |"
   ]
  },
  {
   "cell_type": "markdown",
   "id": "30bb0386-06b4-438c-8112-535c11bcc1a5",
   "metadata": {},
   "source": [
    "For our exploration in this project, we will focus mainly on the columns **experience**, **Age**, and **played_hours**. Based on this, we can draw the conclusions, \n",
    "- **Response Variable** : What we want to predict. In this case, the response variable is **played_hours**, which represennts the total time a players spends playing the game.\n",
    "- **Exploratory Variable** : What we use to predict the response variable. For our project, the explanatory variables are **experience** and **Age**, as we are looking to see if a player's age can help predict how manny hours they will play. "
   ]
  },
  {
   "cell_type": "markdown",
   "id": "02e26274-b471-4e5e-b848-ed7c5542b8a1",
   "metadata": {},
   "source": [
    "## Explortary and Visualization"
   ]
  },
  {
   "cell_type": "markdown",
   "id": "dc9a2d1f-ec7c-4ed1-88b7-9af03dbe6861",
   "metadata": {},
   "source": [
    "Using summary function and is.na argument, we can check if there's any NA value in our dataset could interfere our calculations."
   ]
  },
  {
   "cell_type": "code",
   "execution_count": 4,
   "id": "f63c1b89-f9f8-4641-a1fb-db88160942b3",
   "metadata": {},
   "outputs": [
    {
     "data": {
      "text/html": [
       "<table class=\"dataframe\">\n",
       "<caption>A tibble: 1 × 7</caption>\n",
       "<thead>\n",
       "\t<tr><th scope=col>experience</th><th scope=col>subscribe</th><th scope=col>hashedEmail</th><th scope=col>played_hours</th><th scope=col>name</th><th scope=col>gender</th><th scope=col>Age</th></tr>\n",
       "\t<tr><th scope=col>&lt;int&gt;</th><th scope=col>&lt;int&gt;</th><th scope=col>&lt;int&gt;</th><th scope=col>&lt;int&gt;</th><th scope=col>&lt;int&gt;</th><th scope=col>&lt;int&gt;</th><th scope=col>&lt;int&gt;</th></tr>\n",
       "</thead>\n",
       "<tbody>\n",
       "\t<tr><td>0</td><td>0</td><td>0</td><td>0</td><td>0</td><td>0</td><td>2</td></tr>\n",
       "</tbody>\n",
       "</table>\n"
      ],
      "text/latex": [
       "A tibble: 1 × 7\n",
       "\\begin{tabular}{lllllll}\n",
       " experience & subscribe & hashedEmail & played\\_hours & name & gender & Age\\\\\n",
       " <int> & <int> & <int> & <int> & <int> & <int> & <int>\\\\\n",
       "\\hline\n",
       "\t 0 & 0 & 0 & 0 & 0 & 0 & 2\\\\\n",
       "\\end{tabular}\n"
      ],
      "text/markdown": [
       "\n",
       "A tibble: 1 × 7\n",
       "\n",
       "| experience &lt;int&gt; | subscribe &lt;int&gt; | hashedEmail &lt;int&gt; | played_hours &lt;int&gt; | name &lt;int&gt; | gender &lt;int&gt; | Age &lt;int&gt; |\n",
       "|---|---|---|---|---|---|---|\n",
       "| 0 | 0 | 0 | 0 | 0 | 0 | 2 |\n",
       "\n"
      ],
      "text/plain": [
       "  experience subscribe hashedEmail played_hours name gender Age\n",
       "1 0          0         0           0            0    0      2  "
      ]
     },
     "metadata": {},
     "output_type": "display_data"
    }
   ],
   "source": [
    "summary_players <- players_data |>\n",
    "                    summarize(across(everything(), ~sum(is.na(.))))\n",
    "summary_players"
   ]
  },
  {
   "cell_type": "markdown",
   "id": "f539f4a7-b9c8-40a0-8616-8f4b3e5888fc",
   "metadata": {},
   "source": [
    "In the next step, we use functions like nrow and group_by to the dataset to find the number and percentage distribution of each experience level.Then summarize and across function can help us to summarize statistics in every column."
   ]
  },
  {
   "cell_type": "code",
   "execution_count": 5,
   "id": "b2c82da8-2451-4d5a-87c1-0a4f9ebc47f1",
   "metadata": {},
   "outputs": [
    {
     "data": {
      "text/html": [
       "<table class=\"dataframe\">\n",
       "<caption>A tibble: 5 × 3</caption>\n",
       "<thead>\n",
       "\t<tr><th scope=col>experience</th><th scope=col>count</th><th scope=col>percentage</th></tr>\n",
       "\t<tr><th scope=col>&lt;chr&gt;</th><th scope=col>&lt;int&gt;</th><th scope=col>&lt;dbl&gt;</th></tr>\n",
       "</thead>\n",
       "<tbody>\n",
       "\t<tr><td>Amateur </td><td>63</td><td>32.142857</td></tr>\n",
       "\t<tr><td>Beginner</td><td>35</td><td>17.857143</td></tr>\n",
       "\t<tr><td>Pro     </td><td>14</td><td> 7.142857</td></tr>\n",
       "\t<tr><td>Regular </td><td>36</td><td>18.367347</td></tr>\n",
       "\t<tr><td>Veteran </td><td>48</td><td>24.489796</td></tr>\n",
       "</tbody>\n",
       "</table>\n"
      ],
      "text/latex": [
       "A tibble: 5 × 3\n",
       "\\begin{tabular}{lll}\n",
       " experience & count & percentage\\\\\n",
       " <chr> & <int> & <dbl>\\\\\n",
       "\\hline\n",
       "\t Amateur  & 63 & 32.142857\\\\\n",
       "\t Beginner & 35 & 17.857143\\\\\n",
       "\t Pro      & 14 &  7.142857\\\\\n",
       "\t Regular  & 36 & 18.367347\\\\\n",
       "\t Veteran  & 48 & 24.489796\\\\\n",
       "\\end{tabular}\n"
      ],
      "text/markdown": [
       "\n",
       "A tibble: 5 × 3\n",
       "\n",
       "| experience &lt;chr&gt; | count &lt;int&gt; | percentage &lt;dbl&gt; |\n",
       "|---|---|---|\n",
       "| Amateur  | 63 | 32.142857 |\n",
       "| Beginner | 35 | 17.857143 |\n",
       "| Pro      | 14 |  7.142857 |\n",
       "| Regular  | 36 | 18.367347 |\n",
       "| Veteran  | 48 | 24.489796 |\n",
       "\n"
      ],
      "text/plain": [
       "  experience count percentage\n",
       "1 Amateur    63    32.142857 \n",
       "2 Beginner   35    17.857143 \n",
       "3 Pro        14     7.142857 \n",
       "4 Regular    36    18.367347 \n",
       "5 Veteran    48    24.489796 "
      ]
     },
     "metadata": {},
     "output_type": "display_data"
    },
    {
     "data": {
      "text/html": [
       "<table class=\"dataframe\">\n",
       "<caption>A tibble: 1 × 7</caption>\n",
       "<thead>\n",
       "\t<tr><th scope=col>experience</th><th scope=col>subscribe</th><th scope=col>hashedEmail</th><th scope=col>played_hours</th><th scope=col>name</th><th scope=col>gender</th><th scope=col>Age</th></tr>\n",
       "\t<tr><th scope=col>&lt;int&gt;</th><th scope=col>&lt;int&gt;</th><th scope=col>&lt;int&gt;</th><th scope=col>&lt;int&gt;</th><th scope=col>&lt;int&gt;</th><th scope=col>&lt;int&gt;</th><th scope=col>&lt;int&gt;</th></tr>\n",
       "</thead>\n",
       "<tbody>\n",
       "\t<tr><td>196</td><td>196</td><td>196</td><td>196</td><td>196</td><td>196</td><td>194</td></tr>\n",
       "</tbody>\n",
       "</table>\n"
      ],
      "text/latex": [
       "A tibble: 1 × 7\n",
       "\\begin{tabular}{lllllll}\n",
       " experience & subscribe & hashedEmail & played\\_hours & name & gender & Age\\\\\n",
       " <int> & <int> & <int> & <int> & <int> & <int> & <int>\\\\\n",
       "\\hline\n",
       "\t 196 & 196 & 196 & 196 & 196 & 196 & 194\\\\\n",
       "\\end{tabular}\n"
      ],
      "text/markdown": [
       "\n",
       "A tibble: 1 × 7\n",
       "\n",
       "| experience &lt;int&gt; | subscribe &lt;int&gt; | hashedEmail &lt;int&gt; | played_hours &lt;int&gt; | name &lt;int&gt; | gender &lt;int&gt; | Age &lt;int&gt; |\n",
       "|---|---|---|---|---|---|---|\n",
       "| 196 | 196 | 196 | 196 | 196 | 196 | 194 |\n",
       "\n"
      ],
      "text/plain": [
       "  experience subscribe hashedEmail played_hours name gender Age\n",
       "1 196        196       196         196          196  196    194"
      ]
     },
     "metadata": {},
     "output_type": "display_data"
    }
   ],
   "source": [
    "num_obs <- nrow(players_data)\n",
    "players_data |>\n",
    "  group_by(experience) |>\n",
    "  summarize(\n",
    "    count = n(),\n",
    "    percentage = n() / num_obs * 100\n",
    "  )\n",
    "\n",
    "#reports the number of observations in each variable\n",
    "num_observations <- players_data |>\n",
    "  summarise(across(everything(), ~sum(!is.na(.))))\n",
    "num_observations"
   ]
  },
  {
   "cell_type": "markdown",
   "id": "4f0afcbe-e57c-41ee-80ec-4e45424ab9ce",
   "metadata": {},
   "source": [
    "Here since we're using experience as one predictor, we want to scale the experience level from 0 to 5, corresponding with \"Beiginner\",\"Regular\",\"Amateur\",\"Pro\", and \"Veteran\". Therefore, we can apply recode function to make the experience from chr to dbl. In addition, using drop_na can help us to eliminate potential NA value that we don't want."
   ]
  },
  {
   "cell_type": "code",
   "execution_count": 6,
   "id": "3f1639e3-9e35-43e5-b570-ee136000e9c1",
   "metadata": {},
   "outputs": [],
   "source": [
    "players_d <- players_data|>\n",
    "            mutate(experience_numeric = recode(experience,\n",
    "                                      \"Beginner\" = 1,\n",
    "                                      \"Regular\" = 2,\n",
    "                                      \"Amateur\" = 3,\n",
    "                                      \"Pro\" = 4,\n",
    "                                      \"Veteran\" = 5))|>\n",
    "            drop_na()\n"
   ]
  },
  {
   "cell_type": "markdown",
   "id": "143411e7-a6a4-4897-8264-30479f028472",
   "metadata": {},
   "source": [
    "Here we can use select function to select only columns we will use in the following steps, making our data frame clearer."
   ]
  },
  {
   "cell_type": "code",
   "execution_count": 7,
   "id": "e607bb1b-edee-45d0-9b67-8dc10fed06c6",
   "metadata": {},
   "outputs": [
    {
     "data": {
      "text/html": [
       "<table class=\"dataframe\">\n",
       "<caption>A tibble: 6 × 3</caption>\n",
       "<thead>\n",
       "\t<tr><th scope=col>experience_numeric</th><th scope=col>Age</th><th scope=col>played_hours</th></tr>\n",
       "\t<tr><th scope=col>&lt;dbl&gt;</th><th scope=col>&lt;dbl&gt;</th><th scope=col>&lt;dbl&gt;</th></tr>\n",
       "</thead>\n",
       "<tbody>\n",
       "\t<tr><td>4</td><td> 9</td><td>30.3</td></tr>\n",
       "\t<tr><td>5</td><td>17</td><td> 3.8</td></tr>\n",
       "\t<tr><td>5</td><td>17</td><td> 0.0</td></tr>\n",
       "\t<tr><td>3</td><td>21</td><td> 0.7</td></tr>\n",
       "\t<tr><td>2</td><td>21</td><td> 0.1</td></tr>\n",
       "\t<tr><td>3</td><td>17</td><td> 0.0</td></tr>\n",
       "</tbody>\n",
       "</table>\n"
      ],
      "text/latex": [
       "A tibble: 6 × 3\n",
       "\\begin{tabular}{lll}\n",
       " experience\\_numeric & Age & played\\_hours\\\\\n",
       " <dbl> & <dbl> & <dbl>\\\\\n",
       "\\hline\n",
       "\t 4 &  9 & 30.3\\\\\n",
       "\t 5 & 17 &  3.8\\\\\n",
       "\t 5 & 17 &  0.0\\\\\n",
       "\t 3 & 21 &  0.7\\\\\n",
       "\t 2 & 21 &  0.1\\\\\n",
       "\t 3 & 17 &  0.0\\\\\n",
       "\\end{tabular}\n"
      ],
      "text/markdown": [
       "\n",
       "A tibble: 6 × 3\n",
       "\n",
       "| experience_numeric &lt;dbl&gt; | Age &lt;dbl&gt; | played_hours &lt;dbl&gt; |\n",
       "|---|---|---|\n",
       "| 4 |  9 | 30.3 |\n",
       "| 5 | 17 |  3.8 |\n",
       "| 5 | 17 |  0.0 |\n",
       "| 3 | 21 |  0.7 |\n",
       "| 2 | 21 |  0.1 |\n",
       "| 3 | 17 |  0.0 |\n",
       "\n"
      ],
      "text/plain": [
       "  experience_numeric Age played_hours\n",
       "1 4                   9  30.3        \n",
       "2 5                  17   3.8        \n",
       "3 5                  17   0.0        \n",
       "4 3                  21   0.7        \n",
       "5 2                  21   0.1        \n",
       "6 3                  17   0.0        "
      ]
     },
     "metadata": {},
     "output_type": "display_data"
    }
   ],
   "source": [
    "players_data <- players_d |>\n",
    "                select(experience_numeric, Age, played_hours)\n",
    "\n",
    "players_data |>\n",
    "head(6)"
   ]
  },
  {
   "cell_type": "markdown",
   "id": "2a099c8b-5cc6-4d32-a5a8-736073a6027a",
   "metadata": {},
   "source": [
    "For visulization, "
   ]
  },
  {
   "cell_type": "code",
   "execution_count": null,
   "id": "66c23a5a-947e-47d6-b5a1-231f5dd16ab1",
   "metadata": {},
   "outputs": [],
   "source": [
    "players_graph <- players_data |>\n",
    "    ggplot(aes(x=experience_numeric,fill = factor(Age))) +\n",
    "    geom_histogram(binwidth=0.5) \n",
    "\n",
    "\n",
    "players_graph"
   ]
  },
  {
   "cell_type": "code",
   "execution_count": null,
   "id": "acd5b0bd-e6ac-404d-ab90-4b3e5a200f01",
   "metadata": {},
   "outputs": [],
   "source": [
    "players_graph <- players_data |>\n",
    "    ggplot(aes(x=experience_numeric,y=played_hours,color=Age)) +\n",
    "    geom_point(alpha=0.4)+\n",
    "    theme(text = element_text(size = 12))\n",
    "\n",
    "\n",
    "players_graph"
   ]
  },
  {
   "cell_type": "markdown",
   "id": "91c2070a-58b1-4971-b8b8-5dfc281e267d",
   "metadata": {},
   "source": [
    "For our knn-regression model:"
   ]
  },
  {
   "cell_type": "code",
   "execution_count": null,
   "id": "7449d4bb-5e24-4930-92a5-b817c64ff14a",
   "metadata": {},
   "outputs": [],
   "source": [
    "players_split <- initial_split(players_data, prop=0.75, strat=played_hours) \n",
    "players_training <-training(players_split)\n",
    "players_testing <-testing(players_split)"
   ]
  },
  {
   "cell_type": "code",
   "execution_count": null,
   "id": "981a2c55-6231-46f8-bec8-acfa1b1336dc",
   "metadata": {},
   "outputs": [],
   "source": [
    "players_recipe <-recipe(played_hours ~ experience_numeric + Age, data = players_training) |>\n",
    "    step_scale(all_predictors()) |>\n",
    "    step_center(all_predictors())"
   ]
  },
  {
   "cell_type": "code",
   "execution_count": null,
   "id": "b9e1b744-446d-47d5-befa-97267b966ae8",
   "metadata": {},
   "outputs": [],
   "source": [
    "players_spec <- nearest_neighbor(weight_func = \"rectangular\",\n",
    "                              neighbors = tune()) |>\n",
    "  set_engine(\"kknn\") |>\n",
    "  set_mode(\"regression\")"
   ]
  },
  {
   "cell_type": "code",
   "execution_count": 2,
   "id": "0d83bed8-ac8b-4523-a3cd-a46bbee9eb4b",
   "metadata": {},
   "outputs": [
    {
     "ename": "ERROR",
     "evalue": "Error in tibble(neighbors = seq(1, 200)): could not find function \"tibble\"\n",
     "output_type": "error",
     "traceback": [
      "Error in tibble(neighbors = seq(1, 200)): could not find function \"tibble\"\nTraceback:\n"
     ]
    }
   ],
   "source": [
    "gridvals <- tibble(neighbors = seq(1, 200))\n",
    "players_vfold <- vfold_cv(players_training, v = 5, strata = played_hours)"
   ]
  },
  {
   "cell_type": "code",
   "execution_count": null,
   "id": "bb3cd9db-2c11-488c-8c6c-58d7ecd00e01",
   "metadata": {},
   "outputs": [
    {
     "name": "stderr",
     "output_type": "stream",
     "text": [
      "→ \u001b[33m\u001b[1mA\u001b[22m\u001b[39m | \u001b[33mwarning\u001b[39m: 200 samples were requested but there were 114 rows in the data. 109 will be used.\n",
      "\n",
      "There were issues with some computations   \u001b[1m\u001b[33mA\u001b[39m\u001b[22m: x1\n",
      "\n",
      "→ \u001b[31m\u001b[1mB\u001b[22m\u001b[39m | \u001b[31merror\u001b[39m:   \u001b[1m\u001b[22m\u001b[36mℹ\u001b[39m In index: 115.\n",
      "               \u001b[1mCaused by error in `cl[C]`:\u001b[22m\n",
      "               \u001b[33m!\u001b[39m only 0's may be mixed with negative subscripts\n",
      "\n",
      "There were issues with some computations   \u001b[1m\u001b[33mA\u001b[39m\u001b[22m: x1\n",
      "There were issues with some computations   \u001b[1m\u001b[33mA\u001b[39m\u001b[22m: x1   \u001b[1m\u001b[31mB\u001b[39m\u001b[22m: x1\n",
      "\n",
      "→ \u001b[33m\u001b[1mC\u001b[22m\u001b[39m | \u001b[33mwarning\u001b[39m: 200 samples were requested but there were 116 rows in the data. 111 will be used.\n",
      "\n",
      "There were issues with some computations   \u001b[1m\u001b[33mA\u001b[39m\u001b[22m: x1   \u001b[1m\u001b[31mB\u001b[39m\u001b[22m: x1\n"
     ]
    }
   ],
   "source": [
    "players_multi <- workflow() |>\n",
    "  add_recipe(players_recipe) |>\n",
    "  add_model(players_spec) |>\n",
    "  tune_grid(players_vfold, grid = gridvals) |>\n",
    "  collect_metrics() |>\n",
    "  filter(.metric == \"rmse\") |>\n",
    "  filter(mean == min(mean))\n",
    "\n",
    "players_k <- players_multi |>\n",
    "              pull(neighbors)\n",
    "players_multi"
   ]
  },
  {
   "cell_type": "code",
   "execution_count": null,
   "id": "d86b8315-5437-4c42-8a36-69e2740b0cb4",
   "metadata": {},
   "outputs": [],
   "source": [
    "players_spec <- nearest_neighbor(weight_func = \"rectangular\",\n",
    "                              neighbors = players_k) |>\n",
    "  set_engine(\"kknn\") |>\n",
    "  set_mode(\"regression\")"
   ]
  },
  {
   "cell_type": "code",
   "execution_count": null,
   "id": "ea6ee2b2-735c-4673-82df-0aa58617280b",
   "metadata": {},
   "outputs": [],
   "source": [
    "knn_players_fit <- workflow() |>\n",
    "  add_recipe(players_recipe) |>\n",
    "  add_model(players_spec) |>\n",
    "  fit(data = players_training)"
   ]
  },
  {
   "cell_type": "code",
   "execution_count": null,
   "id": "f76b15d8-bc8b-4bc5-b581-0b44b432d731",
   "metadata": {},
   "outputs": [],
   "source": [
    "knn_players_preds <- knn_players_fit |>\n",
    "  predict(players_testing) |>\n",
    "  bind_cols(players_testing)\n",
    "\n",
    "players_metrics <- metrics(knn_players_preds, truth = playing_hours, estimate = .pred) |>\n",
    "                     filter(.metric == 'rmse')\n",
    "\n",
    "players_metrics"
   ]
  },
  {
   "cell_type": "code",
   "execution_count": null,
   "id": "a0296308-93ca-4a42-b3ee-304801b563a5",
   "metadata": {},
   "outputs": [],
   "source": []
  }
 ],
 "metadata": {
  "kernelspec": {
   "display_name": "R",
   "language": "R",
   "name": "ir"
  },
  "language_info": {
   "codemirror_mode": "r",
   "file_extension": ".r",
   "mimetype": "text/x-r-source",
   "name": "R",
   "pygments_lexer": "r",
   "version": "4.3.3"
  }
 },
 "nbformat": 4,
 "nbformat_minor": 5
}
