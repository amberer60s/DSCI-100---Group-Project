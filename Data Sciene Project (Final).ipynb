{
 "cells": [
  {
   "cell_type": "markdown",
   "id": "d225b20c-f9eb-4402-bcd1-5a0408ba41ca",
   "metadata": {},
   "source": [
    "# Project Final Report "
   ]
  },
  {
   "cell_type": "code",
   "execution_count": 1,
   "id": "e879402e-19d7-4284-a342-96a0a42e2735",
   "metadata": {},
   "outputs": [
    {
     "name": "stderr",
     "output_type": "stream",
     "text": [
      "── \u001b[1mAttaching core tidyverse packages\u001b[22m ──────────────────────── tidyverse 2.0.0 ──\n",
      "\u001b[32m✔\u001b[39m \u001b[34mdplyr    \u001b[39m 1.1.4     \u001b[32m✔\u001b[39m \u001b[34mreadr    \u001b[39m 2.1.5\n",
      "\u001b[32m✔\u001b[39m \u001b[34mforcats  \u001b[39m 1.0.0     \u001b[32m✔\u001b[39m \u001b[34mstringr  \u001b[39m 1.5.1\n",
      "\u001b[32m✔\u001b[39m \u001b[34mggplot2  \u001b[39m 3.5.1     \u001b[32m✔\u001b[39m \u001b[34mtibble   \u001b[39m 3.2.1\n",
      "\u001b[32m✔\u001b[39m \u001b[34mlubridate\u001b[39m 1.9.3     \u001b[32m✔\u001b[39m \u001b[34mtidyr    \u001b[39m 1.3.1\n",
      "\u001b[32m✔\u001b[39m \u001b[34mpurrr    \u001b[39m 1.0.2     \n",
      "── \u001b[1mConflicts\u001b[22m ────────────────────────────────────────── tidyverse_conflicts() ──\n",
      "\u001b[31m✖\u001b[39m \u001b[34mdplyr\u001b[39m::\u001b[32mfilter()\u001b[39m masks \u001b[34mstats\u001b[39m::filter()\n",
      "\u001b[31m✖\u001b[39m \u001b[34mdplyr\u001b[39m::\u001b[32mlag()\u001b[39m    masks \u001b[34mstats\u001b[39m::lag()\n",
      "\u001b[36mℹ\u001b[39m Use the conflicted package (\u001b[3m\u001b[34m<http://conflicted.r-lib.org/>\u001b[39m\u001b[23m) to force all conflicts to become errors\n",
      "── \u001b[1mAttaching packages\u001b[22m ────────────────────────────────────── tidymodels 1.1.1 ──\n",
      "\n",
      "\u001b[32m✔\u001b[39m \u001b[34mbroom       \u001b[39m 1.0.6     \u001b[32m✔\u001b[39m \u001b[34mrsample     \u001b[39m 1.2.1\n",
      "\u001b[32m✔\u001b[39m \u001b[34mdials       \u001b[39m 1.3.0     \u001b[32m✔\u001b[39m \u001b[34mtune        \u001b[39m 1.1.2\n",
      "\u001b[32m✔\u001b[39m \u001b[34minfer       \u001b[39m 1.0.7     \u001b[32m✔\u001b[39m \u001b[34mworkflows   \u001b[39m 1.1.4\n",
      "\u001b[32m✔\u001b[39m \u001b[34mmodeldata   \u001b[39m 1.4.0     \u001b[32m✔\u001b[39m \u001b[34mworkflowsets\u001b[39m 1.0.1\n",
      "\u001b[32m✔\u001b[39m \u001b[34mparsnip     \u001b[39m 1.2.1     \u001b[32m✔\u001b[39m \u001b[34myardstick   \u001b[39m 1.3.1\n",
      "\u001b[32m✔\u001b[39m \u001b[34mrecipes     \u001b[39m 1.1.0     \n",
      "\n",
      "── \u001b[1mConflicts\u001b[22m ───────────────────────────────────────── tidymodels_conflicts() ──\n",
      "\u001b[31m✖\u001b[39m \u001b[34mscales\u001b[39m::\u001b[32mdiscard()\u001b[39m masks \u001b[34mpurrr\u001b[39m::discard()\n",
      "\u001b[31m✖\u001b[39m \u001b[34mdplyr\u001b[39m::\u001b[32mfilter()\u001b[39m   masks \u001b[34mstats\u001b[39m::filter()\n",
      "\u001b[31m✖\u001b[39m \u001b[34mrecipes\u001b[39m::\u001b[32mfixed()\u001b[39m  masks \u001b[34mstringr\u001b[39m::fixed()\n",
      "\u001b[31m✖\u001b[39m \u001b[34mdplyr\u001b[39m::\u001b[32mlag()\u001b[39m      masks \u001b[34mstats\u001b[39m::lag()\n",
      "\u001b[31m✖\u001b[39m \u001b[34myardstick\u001b[39m::\u001b[32mspec()\u001b[39m masks \u001b[34mreadr\u001b[39m::spec()\n",
      "\u001b[31m✖\u001b[39m \u001b[34mrecipes\u001b[39m::\u001b[32mstep()\u001b[39m   masks \u001b[34mstats\u001b[39m::step()\n",
      "\u001b[34m•\u001b[39m Dig deeper into tidy modeling with R at \u001b[32mhttps://www.tmwr.org\u001b[39m\n",
      "\n"
     ]
    }
   ],
   "source": [
    "library(tidyverse)\n",
    "library(repr)\n",
    "library(tidymodels)\n",
    "options(repr.matrix.rows = 6)"
   ]
  },
  {
   "cell_type": "code",
   "execution_count": 4,
   "id": "b92382ec-e261-4efb-92ac-1fe7ccae6a25",
   "metadata": {},
   "outputs": [
    {
     "name": "stderr",
     "output_type": "stream",
     "text": [
      "\u001b[1mRows: \u001b[22m\u001b[34m196\u001b[39m \u001b[1mColumns: \u001b[22m\u001b[34m7\u001b[39m\n",
      "\u001b[36m──\u001b[39m \u001b[1mColumn specification\u001b[22m \u001b[36m────────────────────────────────────────────────────────\u001b[39m\n",
      "\u001b[1mDelimiter:\u001b[22m \",\"\n",
      "\u001b[31mchr\u001b[39m (4): experience, hashedEmail, name, gender\n",
      "\u001b[32mdbl\u001b[39m (2): played_hours, Age\n",
      "\u001b[33mlgl\u001b[39m (1): subscribe\n",
      "\n",
      "\u001b[36mℹ\u001b[39m Use `spec()` to retrieve the full column specification for this data.\n",
      "\u001b[36mℹ\u001b[39m Specify the column types or set `show_col_types = FALSE` to quiet this message.\n"
     ]
    },
    {
     "name": "stdout",
     "output_type": "stream",
     "text": [
      "\u001b[90m# A tibble: 196 × 7\u001b[39m\n",
      "   experience subscribe hashedEmail              played_hours name  gender   Age\n",
      "   \u001b[3m\u001b[90m<chr>\u001b[39m\u001b[23m      \u001b[3m\u001b[90m<lgl>\u001b[39m\u001b[23m     \u001b[3m\u001b[90m<chr>\u001b[39m\u001b[23m                           \u001b[3m\u001b[90m<dbl>\u001b[39m\u001b[23m \u001b[3m\u001b[90m<chr>\u001b[39m\u001b[23m \u001b[3m\u001b[90m<chr>\u001b[39m\u001b[23m  \u001b[3m\u001b[90m<dbl>\u001b[39m\u001b[23m\n",
      "\u001b[90m 1\u001b[39m Pro        TRUE      f6daba428a5e19a3d475748…         30.3 Morg… Male       9\n",
      "\u001b[90m 2\u001b[39m Veteran    TRUE      f3c813577c458ba0dfef809…          3.8 Chri… Male      17\n",
      "\u001b[90m 3\u001b[39m Veteran    FALSE     b674dd7ee0d24096d1c0196…          0   Blake Male      17\n",
      "\u001b[90m 4\u001b[39m Amateur    TRUE      23fe711e0e3b77f1da7aa22…          0.7 Flora Female    21\n",
      "\u001b[90m 5\u001b[39m Regular    TRUE      7dc01f10bf20671ecfccdac…          0.1 Kylie Male      21\n",
      "\u001b[90m 6\u001b[39m Amateur    TRUE      f58aad5996a435f16b0284a…          0   Adri… Female    17\n",
      "\u001b[90m 7\u001b[39m Regular    TRUE      8e594b8953193b26f498db9…          0   Luna  Female    19\n",
      "\u001b[90m 8\u001b[39m Amateur    FALSE     1d2371d8a35c8831034b25b…          0   Emer… Male      21\n",
      "\u001b[90m 9\u001b[39m Amateur    TRUE      8b71f4d66a38389b7528bb3…          0.1 Nata… Male      17\n",
      "\u001b[90m10\u001b[39m Veteran    TRUE      bbe2d83de678f519c4b3daa…          0   Nyla  Female    22\n",
      "\u001b[90m# ℹ 186 more rows\u001b[39m\n"
     ]
    }
   ],
   "source": [
    "players_data <-read_csv(\"https://raw.githubusercontent.com/amberer60s/DSCI-100---Group-Project/refs/heads/main/players%20(1).csv?token=GHSAT0AAAAAADBONSJY3HMVLVKOSRFOHHMEZ7LDK7A\")\n",
    "print(players_data)"
   ]
  },
  {
   "cell_type": "markdown",
   "id": "2a3cbaef-8f80-4675-9fbe-77dd4067a615",
   "metadata": {},
   "source": [
    "## Introduction ##"
   ]
  },
  {
   "cell_type": "markdown",
   "id": "5bcd6617-a549-46cd-bac8-f797f31e27b4",
   "metadata": {},
   "source": [
    "In the world of gaming, game developers and companies want to keep players engaged and attract new ones. One way to do this is by figuring out which players are most likely to play a lot, as this gives them a better idea of where to focus their marketing and recruitment efforts. The more time a player spend, the better the developers can understand how to improve the game and keep people playing \n",
    "\n",
    "A big question for game developers is whether certain types of players are more likely to play for longer periods. \n",
    "\n",
    "For our project, we tried to answer the question : \n",
    "\n",
    "**\"Can a player’s age predict how much time they will spend playing the game?\"**\n",
    "\n",
    "Our aim is to see if there is a relationship between how old a player is and how much they play. This could help game developers understand which age groups are more likely to be active players."
   ]
  },
  {
   "cell_type": "markdown",
   "id": "b83fccc0-1238-422a-b1ff-4ef6d2263544",
   "metadata": {},
   "source": [
    "#### *players.csv*\n",
    "This dataset contains 196 player records with various variables describing their characteristics and behavior."
   ]
  },
  {
   "cell_type": "markdown",
   "id": "d641537a-551e-4a91-bf18-5da871c4ec80",
   "metadata": {},
   "source": [
    "| Column Name   | Data Type | Description |\n",
    "|--------------|----------|-------------|\n",
    "| experience | character (chr) | Player's experience level (Pro, Veteran, Regular, and Amateur. |\n",
    "| subscribe  | logical (lgl) | Indicates whether the player is a subscriber to the server (True or False). |\n",
    "| hashedEmail | character (chr) | Hashed representation of the player's email. |\n",
    "| played_hours | dbl | Total hours the player has played. |\n",
    "| name | character (chr) | Player's name. |\n",
    "| gender | character (chr) | Player's gender (e.g., Male, Female, Non-binary, etc.). |\n",
    "| Age | double (dbl) | Player’s age (years). |"
   ]
  },
  {
   "cell_type": "markdown",
   "id": "30bb0386-06b4-438c-8112-535c11bcc1a5",
   "metadata": {},
   "source": [
    "For our exploration in this project, we will focus mainly on *Age* and *played_hours*. Based on this, we can draw the conclusions, \n",
    "- **Response Variable** : What we want to predict. In this case, the reponse variable is *played_hours*, which represennts the total time a players spends playing the game.\n",
    "- **Exploratory Variable** : What we use to predict the response variable. For our project, the explanatory variable is *Age*, as we are looking to see if a player's age can help predict how manny hours they will play. "
   ]
  },
  {
   "cell_type": "code",
   "execution_count": null,
   "id": "8b37f272-2c44-4b5c-9770-29883260cd0b",
   "metadata": {},
   "outputs": [],
   "source": []
  }
 ],
 "metadata": {
  "kernelspec": {
   "display_name": "R",
   "language": "R",
   "name": "ir"
  },
  "language_info": {
   "codemirror_mode": "r",
   "file_extension": ".r",
   "mimetype": "text/x-r-source",
   "name": "R",
   "pygments_lexer": "r",
   "version": "4.3.3"
  }
 },
 "nbformat": 4,
 "nbformat_minor": 5
}
