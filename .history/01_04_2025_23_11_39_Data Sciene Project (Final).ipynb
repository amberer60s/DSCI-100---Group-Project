{
 "cells": [
  {
   "cell_type": "markdown",
   "id": "d225b20c-f9eb-4402-bcd1-5a0408ba41ca",
   "metadata": {},
   "source": [
    "# Project Final Report "
   ]
  },
  {
   "cell_type": "code",
   "execution_count": null,
   "id": "e879402e-19d7-4284-a342-96a0a42e2735",
   "metadata": {},
   "outputs": [],
   "source": [
    "library(tidyverse)\n",
    "library(repr)\n",
    "library(tidymodels)\n",
    "options(repr.matrix.rows = 6)"
   ]
  },
  {
   "cell_type": "code",
   "execution_count": null,
   "id": "b92382ec-e261-4efb-92ac-1fe7ccae6a25",
   "metadata": {},
   "outputs": [],
   "source": [
    "players_data <-read_csv(\"https://raw.githubusercontent.com/amberer60s/DSCI-100---Group-Project/refs/heads/main/players%20(1).csv?token=GHSAT0AAAAAADALMD353KYDXAOM4WUQ2ZNCZ7MSY7Q\")\n",
    "print(players_data)"
   ]
  },
  {
   "cell_type": "markdown",
   "id": "2a3cbaef-8f80-4675-9fbe-77dd4067a615",
   "metadata": {},
   "source": [
    "## Introduction ##"
   ]
  },
  {
   "cell_type": "markdown",
   "id": "5bcd6617-a549-46cd-bac8-f797f31e27b4",
   "metadata": {},
   "source": [
    "In the world of gaming, game developers and companies want to keep players engaged and attract new ones. One way to do this is by figuring out which players are most likely to play a lot, as this gives them a better idea of where to focus their marketing and recruitment efforts. The more time a player spends, the better the developers can understand how to improve the game and \n",
    "\n",
    "A big question for game developers is whether certain types of players are more likely to play for longer periods. \n",
    "\n",
    "For our project, we tried to answer the question : \n",
    "\n",
    "**\"Can a player’s experience and age predict how much time they will spend playing the game?\"**\n",
    "\n",
    "Our aim is to see if there is a relationship between how old a player is and how much they play. This could help game developers understand which age groups are more likely to be active players."
   ]
  },
  {
   "cell_type": "markdown",
   "id": "b83fccc0-1238-422a-b1ff-4ef6d2263544",
   "metadata": {},
   "source": [
    "#### **players.csv**\n",
    "This dataset contains 196 player records with various variables describing their characteristics and behavior."
   ]
  },
  {
   "cell_type": "markdown",
   "id": "d641537a-551e-4a91-bf18-5da871c4ec80",
   "metadata": {},
   "source": [
    "| Column Name   | Data Type | Description |\n",
    "|--------------|----------|-------------|\n",
    "| `experience` | character (chr) | Player's experience level (`Pro`, `Veteran`, `Regular`, and `Amateur`). |\n",
    "| `subscribe`  | logical (lgl) | Indicates whether the player is a subscriber to the server (`True` or `False`). |\n",
    "| `hashedEmail` | character (chr) | Hashed representation of the player's email. |\n",
    "| `played_hours` | dbl | Total hours the player has played. |\n",
    "| `name` | character (chr) | Player's name. |\n",
    "| `gender` | character (chr) | Player's gender (e.g., Male, Female, Non-binary, etc.). |\n",
    "| `Age` | double (dbl) | Player’s age (years). |"
   ]
  },
  {
   "cell_type": "markdown",
   "id": "30bb0386-06b4-438c-8112-535c11bcc1a5",
   "metadata": {},
   "source": [
    "For our exploration in this project, we will focus mainly on the columns **experience**, **Age**, and **played_hours**. Based on this, we can draw the conclusions, \n",
    "- **Response Variable** : What we want to predict. In this case, the response variable is **played_hours**, which represennts the total time a players spends playing the game.\n",
    "- **Exploratory Variable** : What we use to predict the response variable. For our project, the explanatory variables are **experience** and **Age**, as we are looking to see if a player's age can help predict how manny hours they will play. "
   ]
  },
  {
   "cell_type": "markdown",
   "id": "02e26274-b471-4e5e-b848-ed7c5542b8a1",
   "metadata": {},
   "source": [
    "## Explortary and Visualization"
   ]
  },
  {
   "cell_type": "code",
   "execution_count": null,
   "id": "298d3410-4008-4319-9871-530cf38d89bd",
   "metadata": {},
   "outputs": [],
   "source": [
    "summary(players_data)"
   ]
  },
  {
   "cell_type": "code",
   "execution_count": null,
   "id": "f63c1b89-f9f8-4641-a1fb-db88160942b3",
   "metadata": {},
   "outputs": [],
   "source": [
    "summary_players <- players_data |>\n",
    "                    summarize(across(everything(), ~sum(is.na(.))))\n",
    "summary_players"
   ]
  },
  {
   "cell_type": "code",
   "execution_count": null,
   "id": "b2c82da8-2451-4d5a-87c1-0a4f9ebc47f1",
   "metadata": {},
   "outputs": [],
   "source": [
    "num_obs <- nrow(players_data)\n",
    "players_data |>\n",
    "  group_by(experience) |>\n",
    "  summarize(\n",
    "    count = n(),\n",
    "    percentage = n() / num_obs * 100\n",
    "  )\n",
    "\n",
    "#reports the number of observations in each variable\n",
    "num_observations <- players_data |>\n",
    "  summarise(across(everything(), ~sum(!is.na(.))))\n",
    "num_observations"
   ]
  },
  {
   "cell_type": "code",
   "execution_count": null,
   "id": "3f1639e3-9e35-43e5-b570-ee136000e9c1",
   "metadata": {},
   "outputs": [],
   "source": [
    "players_data <- players_data|>\n",
    "            mutate(experience_numeric = recode(experience,\n",
    "                                      \"Beginner\" = 1,\n",
    "                                      \"Regular\" = 2,\n",
    "                                      \"Amateur\" = 3,\n",
    "                                      \"Pro\" = 4,\n",
    "                                      \"Veteran\" = 5))|>\n",
    "            drop_na()"
   ]
  },
  {
   "cell_type": "code",
   "execution_count": null,
   "id": "e607bb1b-edee-45d0-9b67-8dc10fed06c6",
   "metadata": {},
   "outputs": [],
   "source": []
  },
  {
   "cell_type": "code",
   "execution_count": null,
   "id": "2f2896f1-9088-4016-8f21-b5a83bf81cb3",
   "metadata": {},
   "outputs": [],
   "source": [
    "players_graph <- players_data |>\n",
    "    ggplot(aes(x=Age,y=played_hours, color=experience)) +\n",
    "    geom_point(alpha=0.7) \n",
    "\n",
    "\n",
    "players_graph"
   ]
  },
  {
   "cell_type": "code",
   "execution_count": null,
   "id": "66c23a5a-947e-47d6-b5a1-231f5dd16ab1",
   "metadata": {},
   "outputs": [],
   "source": []
  }
 ],
 "metadata": {
  "kernelspec": {
   "display_name": "R",
   "language": "R",
   "name": "ir"
  },
  "language_info": {
   "codemirror_mode": "r",
   "file_extension": ".r",
   "mimetype": "text/x-r-source",
   "name": "R",
   "pygments_lexer": "r",
   "version": "4.3.3"
  }
 },
 "nbformat": 4,
 "nbformat_minor": 5
}
